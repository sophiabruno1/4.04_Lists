{
  "nbformat": 4,
  "nbformat_minor": 0,
  "metadata": {
    "colab": {
      "provenance": [],
      "authorship_tag": "ABX9TyN3XjcZtmBeiBE4ivmUtFsW",
      "include_colab_link": true
    },
    "kernelspec": {
      "name": "python3",
      "display_name": "Python 3"
    },
    "language_info": {
      "name": "python"
    }
  },
  "cells": [
    {
      "cell_type": "markdown",
      "metadata": {
        "id": "view-in-github",
        "colab_type": "text"
      },
      "source": [
        "<a href=\"https://colab.research.google.com/github/sophiabruno1/4.04_Lists/blob/main/FOPH504.ipynb\" target=\"_parent\"><img src=\"https://colab.research.google.com/assets/colab-badge.svg\" alt=\"Open In Colab\"/></a>"
      ]
    },
    {
      "cell_type": "code",
      "execution_count": 8,
      "metadata": {
        "colab": {
          "base_uri": "https://localhost:8080/",
          "height": 426
        },
        "id": "XaSgGKyc1I6m",
        "outputId": "74faca87-f5f8-4703-f520-f82130f68fa4"
      },
      "outputs": [
        {
          "name": "stdout",
          "output_type": "stream",
          "text": [
            "What's your hero's name?adsff\n",
            "Who's your villain?asdf\n",
            "What's your power?ff\n"
          ]
        },
        {
          "output_type": "error",
          "ename": "TypeError",
          "evalue": "ignored",
          "traceback": [
            "\u001b[0;31m---------------------------------------------------------------------------\u001b[0m",
            "\u001b[0;31mTypeError\u001b[0m                                 Traceback (most recent call last)",
            "\u001b[0;32m<ipython-input-8-d61ba9d05e9d>\u001b[0m in \u001b[0;36m<cell line: 25>\u001b[0;34m()\u001b[0m\n\u001b[1;32m     23\u001b[0m   \u001b[0;31m#hero.unleashPower ()\u001b[0m\u001b[0;34m\u001b[0m\u001b[0;34m\u001b[0m\u001b[0m\n\u001b[1;32m     24\u001b[0m \u001b[0;34m\u001b[0m\u001b[0m\n\u001b[0;32m---> 25\u001b[0;31m \u001b[0mmain\u001b[0m\u001b[0;34m(\u001b[0m\u001b[0;34m)\u001b[0m\u001b[0;34m\u001b[0m\u001b[0;34m\u001b[0m\u001b[0m\n\u001b[0m\u001b[1;32m     26\u001b[0m \u001b[0;34m\u001b[0m\u001b[0m\n\u001b[1;32m     27\u001b[0m \u001b[0;34m\u001b[0m\u001b[0m\n",
            "\u001b[0;32m<ipython-input-8-d61ba9d05e9d>\u001b[0m in \u001b[0;36mmain\u001b[0;34m()\u001b[0m\n\u001b[1;32m     18\u001b[0m   \u001b[0mpower\u001b[0m \u001b[0;34m=\u001b[0m \u001b[0minput\u001b[0m\u001b[0;34m(\u001b[0m\u001b[0;34m\"What's your power?\"\u001b[0m\u001b[0;34m)\u001b[0m\u001b[0;34m\u001b[0m\u001b[0;34m\u001b[0m\u001b[0m\n\u001b[1;32m     19\u001b[0m \u001b[0;34m\u001b[0m\u001b[0m\n\u001b[0;32m---> 20\u001b[0;31m   \u001b[0mhero1\u001b[0m \u001b[0;34m=\u001b[0m \u001b[0mSuperhero\u001b[0m\u001b[0;34m(\u001b[0m\u001b[0;34m\"Ladybug\"\u001b[0m\u001b[0;34m,\u001b[0m \u001b[0;34m\"hawkmoth\"\u001b[0m\u001b[0;34m,\u001b[0m \u001b[0;34m\"ice\"\u001b[0m\u001b[0;34m)\u001b[0m\u001b[0;34m\u001b[0m\u001b[0;34m\u001b[0m\u001b[0m\n\u001b[0m\u001b[1;32m     21\u001b[0m \u001b[0;34m\u001b[0m\u001b[0m\n\u001b[1;32m     22\u001b[0m   \u001b[0;31m#print(\"This is the superhero that lives in the city of paris. Their name is \" + hero.name + \", they spend the day saving the people. The power of \" + hero.power + \" allows them to defeat villains. But their #1 enemy is \" + hero.villain + \".\")\u001b[0m\u001b[0;34m\u001b[0m\u001b[0;34m\u001b[0m\u001b[0m\n",
            "\u001b[0;31mTypeError\u001b[0m: Superhero() takes no arguments"
          ]
        }
      ],
      "source": [
        "class Superhero:\n",
        "  def _init_(self, name = \"\", villain = \"\", power = \"\" ):\n",
        "    self.name = name\n",
        "    self.villain = villain\n",
        "    self.power = power\n",
        "\n",
        "  def unleashPower(self):\n",
        "    if (self.power == \"ice\"):\n",
        "      print(\"Let it go! Let it go!\")\n",
        "    elif(self.power == \"fire\"):\n",
        "      print(\"Burn it all!!\")\n",
        "    else:\n",
        "      print(\"I'll save the day!!\")\n",
        "\n",
        "def main():\n",
        "  name = input(\"What's your hero's name?\")\n",
        "  villain = input(\"Who's your villain?\")\n",
        "  power = input(\"What's your power?\")\n",
        "\n",
        "  hero1 = Superhero(\"Ladybug\", \"hawkmoth\", \"ice\")\n",
        "\n",
        "  #print(\"This is the superhero that lives in the city of paris. Their name is \" + hero.name + \", they spend the day saving the people. The power of \" + hero.power + \" allows them to defeat villains. But their #1 enemy is \" + hero.villain + \".\")\n",
        "  #hero.unleashPower ()\n",
        "\n",
        "main()\n",
        "\n",
        "\n",
        "\n",
        "\n",
        "\n"
      ]
    },
    {
      "cell_type": "code",
      "source": [
        "class People:\n",
        "  def __init__(self, name = \"\"):\n",
        "    self.name = name\n",
        "\n",
        "\n",
        "class People2:\n",
        "  def __init__(self, name):\n",
        "    self.name = name\n",
        "\n",
        "\n",
        "obj1 = People()\n",
        "print(obj1.name)\n",
        "obj1.name = \"John\"\n",
        "print(obj1.name)\n"
      ],
      "metadata": {
        "colab": {
          "base_uri": "https://localhost:8080/"
        },
        "id": "yp72PYH7YF8F",
        "outputId": "82dff087-5115-4882-d23b-4c7a802e7081"
      },
      "execution_count": 8,
      "outputs": [
        {
          "output_type": "stream",
          "name": "stdout",
          "text": [
            "\n",
            "John\n"
          ]
        }
      ]
    }
  ]
}