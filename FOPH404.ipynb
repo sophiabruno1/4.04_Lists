{
  "nbformat": 4,
  "nbformat_minor": 0,
  "metadata": {
    "colab": {
      "provenance": [],
      "authorship_tag": "ABX9TyO0tIkrXwlcHRUJN0RdcsVY",
      "include_colab_link": true
    },
    "kernelspec": {
      "name": "python3",
      "display_name": "Python 3"
    },
    "language_info": {
      "name": "python"
    }
  },
  "cells": [
    {
      "cell_type": "markdown",
      "metadata": {
        "id": "view-in-github",
        "colab_type": "text"
      },
      "source": [
        "<a href=\"https://colab.research.google.com/github/sophiabruno1/4.04_Lists/blob/main/FOPH404.ipynb\" target=\"_parent\"><img src=\"https://colab.research.google.com/assets/colab-badge.svg\" alt=\"Open In Colab\"/></a>"
      ]
    },
    {
      "cell_type": "code",
      "execution_count": 2,
      "metadata": {
        "id": "RgGp7IoqsQk6",
        "colab": {
          "base_uri": "https://localhost:8080/"
        },
        "outputId": "b3833eca-566e-4eb8-b0a8-c8865807e91c"
      },
      "outputs": [
        {
          "output_type": "stream",
          "name": "stdout",
          "text": [
            "What's your favorite Super Mario Character?Mario\n",
            "Mario is also my favourite character\n"
          ]
        }
      ],
      "source": [
        "def main():\n",
        "  superMario = [\"Mario\", \"Luigi\", \"Princess Peach\", \"Yoshi\", \"Toad\"]\n",
        "  favoriteCharacter = input(\"What's your favorite Super Mario Character?\")\n",
        "\n",
        "  if (favoriteCharacter == \"Mario\"):\n",
        "    print(\"Mario is also my favourite character\")\n",
        "\n",
        "\n",
        "\n",
        "\n",
        "\n",
        "\n",
        "\n",
        "\n",
        "\n",
        "\n",
        "\n",
        "\n",
        "main()"
      ]
    },
    {
      "cell_type": "code",
      "source": [],
      "metadata": {
        "id": "AajFx5ZHszft"
      },
      "execution_count": null,
      "outputs": []
    }
  ]
}