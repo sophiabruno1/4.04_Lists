{
  "nbformat": 4,
  "nbformat_minor": 0,
  "metadata": {
    "colab": {
      "provenance": [],
      "authorship_tag": "ABX9TyOcsDuDBqKY/j4WqJMjDwAl",
      "include_colab_link": true
    },
    "kernelspec": {
      "name": "python3",
      "display_name": "Python 3"
    },
    "language_info": {
      "name": "python"
    }
  },
  "cells": [
    {
      "cell_type": "markdown",
      "metadata": {
        "id": "view-in-github",
        "colab_type": "text"
      },
      "source": [
        "<a href=\"https://colab.research.google.com/github/sophiabruno1/4.04_Lists/blob/main/FOPH404.ipynb\" target=\"_parent\"><img src=\"https://colab.research.google.com/assets/colab-badge.svg\" alt=\"Open In Colab\"/></a>"
      ]
    },
    {
      "cell_type": "code",
      "execution_count": 33,
      "metadata": {
        "id": "RgGp7IoqsQk6",
        "colab": {
          "base_uri": "https://localhost:8080/"
        },
        "outputId": "aa2e117d-cbba-451c-a488-c694b710b054"
      },
      "outputs": [
        {
          "output_type": "stream",
          "name": "stdout",
          "text": [
            "What's your favorite Super Mario Character?Bowser\n",
            "EW! I hate Bowser\n",
            "What's your favorite Super Mario character?Toad\n",
            "Toad is also my favourite Character\n",
            "Here are my top 5 favourite Super Mario Characters:\n",
            "0. Mario\n",
            "1. Luigi\n",
            "2. Princess Peach\n",
            "3. Yoshi\n",
            "4. Toad\n"
          ]
        }
      ],
      "source": [
        "def main():\n",
        "  superMario = [\"Mario\", \"Luigi\", \"Princess Peach\", \"Yoshi\", \"Toad\"]\n",
        "  favoriteCharacter = input(\"What's your favorite Super Mario Character?\")\n",
        "\n",
        "  while (favoriteCharacter not in superMario):\n",
        "      print(\"EW! I hate \" + favoriteCharacter)\n",
        "      favoriteCharacter = input(\"What's your favorite Super Mario character?\")\n",
        "\n",
        "  if (favoriteCharacter == \"Mario\"):\n",
        "    print(\"Mario is also my favourite character\")\n",
        "\n",
        "  elif (favoriteCharacter == \"Luigi\"):\n",
        "    print(\"Luigi is also my favourite Character\")\n",
        "\n",
        "  elif (favoriteCharacter == \"Princess Peach\"):\n",
        "    print(\"Princess Peach is also my favourite Character\")\n",
        "\n",
        "  elif (favoriteCharacter == \"Yoshi\"):\n",
        "    print(\"Yoshi is also my favourite Character\")\n",
        "\n",
        "  elif (favoriteCharacter == \"Toad\"):\n",
        "    print(\"Toad is also my favourite Character\")\n",
        "\n",
        "  print(\"Here are my top 5 favourite Super Mario Characters:\")\n",
        "  for n in range (0,len(superMario)):\n",
        "    print(str(n) + \". \" + superMario[n])\n",
        "\n",
        "main()"
      ]
    },
    {
      "cell_type": "code",
      "source": [
        "superMario = [\"Mario\", \"Luigi\", \"Princess Peach\", \"Yoshi\", \"Toad\"]\n",
        "print (\"Marios\" not in superMario)\n"
      ],
      "metadata": {
        "colab": {
          "base_uri": "https://localhost:8080/"
        },
        "id": "AajFx5ZHszft",
        "outputId": "7f2d3606-c200-4b08-9c0f-26a42d931bab"
      },
      "execution_count": 26,
      "outputs": [
        {
          "output_type": "stream",
          "name": "stdout",
          "text": [
            "True\n"
          ]
        }
      ]
    }
  ]
}